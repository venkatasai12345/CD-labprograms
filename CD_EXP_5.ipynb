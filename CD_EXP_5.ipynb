{
  "nbformat": 4,
  "nbformat_minor": 0,
  "metadata": {
    "colab": {
      "provenance": [],
      "authorship_tag": "ABX9TyP5G91gxfJmdl1qyN1l5gGT",
      "include_colab_link": true
    },
    "kernelspec": {
      "name": "python3",
      "display_name": "Python 3"
    },
    "language_info": {
      "name": "python"
    }
  },
  "cells": [
    {
      "cell_type": "markdown",
      "metadata": {
        "id": "view-in-github",
        "colab_type": "text"
      },
      "source": [
        "<a href=\"https://colab.research.google.com/github/venkatasai12345/CD-labprograms/blob/main/CD_EXP_5.ipynb\" target=\"_parent\"><img src=\"https://colab.research.google.com/assets/colab-badge.svg\" alt=\"Open In Colab\"/></a>"
      ]
    },
    {
      "cell_type": "code",
      "execution_count": 1,
      "metadata": {
        "id": "2JyhZWphPnX_"
      },
      "outputs": [],
      "source": [
        "gram = {\n",
        "\t\"E\":[\"E+T\",\"T\"],\n",
        "\t\"T\":[\"T*F\",\"F\"],\n",
        "\t\"F\":[\"(E)\",\"i\"]\n",
        "}\n"
      ]
    },
    {
      "cell_type": "code",
      "source": [
        "def removeDirectLR(gramA, A):\n",
        "\t\"\"\"gramA is dictonary\"\"\"\n",
        "\ttemp = gramA[A]\n",
        "\ttempCr = []\n",
        "\ttempInCr = []\n",
        "\tfor i in temp:\n",
        "\t\tif i[0] == A:\n",
        "\t\t\t#tempInCr.append(i[1:])\n",
        "\t\t\ttempInCr.append(i[1:]+[A+\"'\"])\n",
        "\t\telse:\n",
        "\t\t\t#tempCr.append(i)\n",
        "\t\t\ttempCr.append(i+[A+\"'\"])\n",
        "\ttempInCr.append([\"e\"])\n",
        "\tgramA[A] = tempCr\n",
        "\tgramA[A+\"'\"] = tempInCr\n",
        "\treturn gramA"
      ],
      "metadata": {
        "id": "_kjGmlphPsKa"
      },
      "execution_count": 2,
      "outputs": []
    },
    {
      "cell_type": "code",
      "source": [
        "def checkForIndirect(gramA, a, ai):\n",
        "\tif ai not in gramA:\n",
        "\t\treturn False \n",
        "\tif a == ai:\n",
        "\t\treturn True\n",
        "\tfor i in gramA[ai]:\n",
        "\t\tif i[0] == ai:\n",
        "\t\t\treturn False\n",
        "\t\tif i[0] in gramA:\n",
        "\t\t\treturn checkForIndirect(gramA, a, i[0])\n",
        "\treturn False"
      ],
      "metadata": {
        "id": "kDA9kFjNPxMD"
      },
      "execution_count": 3,
      "outputs": []
    },
    {
      "cell_type": "code",
      "source": [
        "def rep(gramA, A):\n",
        "\ttemp = gramA[A]\n",
        "\tnewTemp = []\n",
        "\tfor i in temp:\n",
        "\t\tif checkForIndirect(gramA, A, i[0]):\n",
        "\t\t\tt = []\n",
        "\t\t\tfor k in gramA[i[0]]:\n",
        "\t\t\t\tt=[]\n",
        "\t\t\t\tt+=k\n",
        "\t\t\t\tt+=i[1:]\n",
        "\t\t\t\tnewTemp.append(t)\n",
        "\n",
        "\t\telse:\n",
        "\t\t\tnewTemp.append(i)\n",
        "\tgramA[A] = newTemp\n",
        "\treturn gramA"
      ],
      "metadata": {
        "id": "MuZvQmdlPy94"
      },
      "execution_count": 4,
      "outputs": []
    },
    {
      "cell_type": "code",
      "source": [
        "def rem(gram):\n",
        "\tc = 1\n",
        "\tconv = {}\n",
        "\tgramA = {}\n",
        "\trevconv = {}\n",
        "\tfor j in gram:\n",
        "\t\tconv[j] = \"A\"+str(c)\n",
        "\t\tgramA[\"A\"+str(c)] = []\n",
        "\t\tc+=1\n",
        "\n",
        "\tfor i in gram:\n",
        "\t\tfor j in gram[i]:\n",
        "\t\t\ttemp = []\t\n",
        "\t\t\tfor k in j:\n",
        "\t\t\t\tif k in conv:\n",
        "\t\t\t\t\ttemp.append(conv[k])\n",
        "\t\t\t\telse:\n",
        "\t\t\t\t\ttemp.append(k)\n",
        "\t\t\tgramA[conv[i]].append(temp)\n",
        "\n",
        "\n",
        "\t#print(gramA)\n",
        "\tfor i in range(c-1,0,-1):\n",
        "\t\tai = \"A\"+str(i)\n",
        "\t\tfor j in range(0,i):\n",
        "\t\t\taj = gramA[ai][0][0]\n",
        "\t\t\tif ai!=aj :\n",
        "\t\t\t\tif aj in gramA and checkForIndirect(gramA,ai,aj):\n",
        "\t\t\t\t\tgramA = rep(gramA, ai)\n",
        "\n",
        "\tfor i in range(1,c):\n",
        "\t\tai = \"A\"+str(i)\n",
        "\t\tfor j in gramA[ai]:\n",
        "\t\t\tif ai==j[0]:\n",
        "\t\t\t\tgramA = removeDirectLR(gramA, ai)\n",
        "\t\t\t\tbreak\n",
        "\n",
        "\top = {}\n",
        "\tfor i in gramA:\n",
        "\t\ta = str(i)\n",
        "\t\tfor j in conv:\n",
        "\t\t\ta = a.replace(conv[j],j)\n",
        "\t\trevconv[i] = a\n",
        "\n",
        "\tfor i in gramA:\n",
        "\t\tl = []\n",
        "\t\tfor j in gramA[i]:\n",
        "\t\t\tk = []\n",
        "\t\t\tfor m in j:\n",
        "\t\t\t\tif m in revconv:\n",
        "\t\t\t\t\tk.append(m.replace(m,revconv[m]))\n",
        "\t\t\t\telse:\n",
        "\t\t\t\t\tk.append(m)\n",
        "\t\t\tl.append(k)\n",
        "\t\top[revconv[i]] = l\n",
        "\n",
        "\treturn op"
      ],
      "metadata": {
        "id": "l7Rpwj4uP3a5"
      },
      "execution_count": 5,
      "outputs": []
    },
    {
      "cell_type": "code",
      "source": [
        "result = rem(gram)\n",
        "\n",
        "\n",
        "def first(gram, term):\n",
        "\ta = []\n",
        "\tif term not in gram:\n",
        "\t\treturn [term]\n",
        "\tfor i in gram[term]:\n",
        "\t\tif i[0] not in gram:\n",
        "\t\t\ta.append(i[0])\n",
        "\t\telif i[0] in gram:\n",
        "\t\t\ta += first(gram, i[0])\n",
        "\treturn a"
      ],
      "metadata": {
        "id": "FnBqOExIP6Al"
      },
      "execution_count": 6,
      "outputs": []
    },
    {
      "cell_type": "code",
      "source": [
        "firsts = {}\n",
        "for i in result:\n",
        "\tfirsts[i] = first(result,i)\n",
        "\tprint(f'First({i}):',firsts[i])"
      ],
      "metadata": {
        "colab": {
          "base_uri": "https://localhost:8080/"
        },
        "id": "TQoTSn3tP9SX",
        "outputId": "eb079601-9456-47bb-f1f3-4aa2e7221177"
      },
      "execution_count": 7,
      "outputs": [
        {
          "output_type": "stream",
          "name": "stdout",
          "text": [
            "First(E): ['(', 'i']\n",
            "First(T): ['(', 'i']\n",
            "First(F): ['(', 'i']\n",
            "First(E'): ['+', 'e']\n",
            "First(T'): ['*', 'e']\n"
          ]
        }
      ]
    },
    {
      "cell_type": "code",
      "source": [],
      "metadata": {
        "id": "U0pU8Wu3P_-P"
      },
      "execution_count": 7,
      "outputs": []
    },
    {
      "cell_type": "code",
      "source": [
        "def follow(gram, term):\n",
        "\ta = []\n",
        "\tfor rule in gram:\n",
        "\t\tfor i in gram[rule]:\n",
        "\t\t\tif term in i:\n",
        "\t\t\t\ttemp = i\n",
        "\t\t\t\tindx = i.index(term)\n",
        "\t\t\t\tif indx+1!=len(i):\n",
        "\t\t\t\t\tif i[-1] in firsts:\n",
        "\t\t\t\t\t\ta+=firsts[i[-1]]\n",
        "\t\t\t\t\telse:\n",
        "\t\t\t\t\t\ta+=[i[-1]]\n",
        "\t\t\t\telse:\n",
        "\t\t\t\t\ta+=[\"e\"]\n",
        "\t\t\t\tif rule != term and \"e\" in a:\n",
        "\t\t\t\t\ta+= follow(gram,rule)\n",
        "\treturn a\n"
      ],
      "metadata": {
        "id": "DrwlPAWkQAL3"
      },
      "execution_count": 8,
      "outputs": []
    },
    {
      "cell_type": "code",
      "source": [
        "follows = {}\n",
        "for i in result:\n",
        "\tfollows[i] = list(set(follow(result,i)))\n",
        "\tif \"e\" in follows[i]:\n",
        "\t\tfollows[i].pop(follows[i].index(\"e\"))\n",
        "\tfollows[i]+=[\"$\"]\n",
        "\tprint(f'Follow({i}):',follows[i])"
      ],
      "metadata": {
        "colab": {
          "base_uri": "https://localhost:8080/"
        },
        "id": "vs_mRrb_QCWF",
        "outputId": "334fea0c-cc01-4c4b-8f1d-24ac23a32ab1"
      },
      "execution_count": 9,
      "outputs": [
        {
          "output_type": "stream",
          "name": "stdout",
          "text": [
            "Follow(E): [')', '$']\n",
            "Follow(T): [')', '+', '$']\n",
            "Follow(F): ['*', '+', ')', '$']\n",
            "Follow(E'): [')', '$']\n",
            "Follow(T'): [')', '+', '$']\n"
          ]
        }
      ]
    }
  ]
}