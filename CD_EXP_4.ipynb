{
  "nbformat": 4,
  "nbformat_minor": 0,
  "metadata": {
    "colab": {
      "provenance": [],
      "authorship_tag": "ABX9TyM+4koeWIinQ/wGm9+hmkQ/",
      "include_colab_link": true
    },
    "kernelspec": {
      "name": "python3",
      "display_name": "Python 3"
    },
    "language_info": {
      "name": "python"
    }
  },
  "cells": [
    {
      "cell_type": "markdown",
      "metadata": {
        "id": "view-in-github",
        "colab_type": "text"
      },
      "source": [
        "<a href=\"https://colab.research.google.com/github/venkatasai12345/CD-labprograms/blob/main/CD_EXP_4.ipynb\" target=\"_parent\"><img src=\"https://colab.research.google.com/assets/colab-badge.svg\" alt=\"Open In Colab\"/></a>"
      ]
    },
    {
      "cell_type": "code",
      "execution_count": 1,
      "metadata": {
        "id": "47PdwR8ANFp7"
      },
      "outputs": [],
      "source": [
        "from itertools import takewhile\n",
        "\n",
        "s= \"S->iEtS|iEtSeS|a\"\n",
        "\n",
        "def groupby(ls):\n",
        "    d = {}\n",
        "    ls = [ y[0] for y in rules ]\n",
        "    initial = list(set(ls))\n",
        "    for y in initial:\n",
        "        for i in rules:\n",
        "            if i.startswith(y):\n",
        "                if y not in d:\n",
        "                    d[y] = []\n",
        "                d[y].append(i)\n",
        "    return d\n",
        "\n",
        "def prefix(x):\n",
        "    return len(set(x)) == 1\n"
      ]
    },
    {
      "cell_type": "code",
      "source": [
        "starting=\"\"\n",
        "rules=[]\n",
        "common=[]\n",
        "alphabetset=[\"A'\",\"B'\",\"C'\",\"D'\",\"E'\",\"F'\",\"G'\",\"H'\",\"I'\",\"J'\",\"K'\",\"L'\",\"M'\",\"N'\",\"O'\",\"P'\",\"Q'\",\"R'\",\"S'\",\"T'\",\"U'\",\"V'\",\"W'\",\"X'\",\"Y'\",\"Z'\"]\n",
        "s = s.replace(\" \", \"\").replace(\"\t\", \"\").replace(\"\\n\", \"\")\n"
      ],
      "metadata": {
        "id": "ceE0Z4kwNnUV"
      },
      "execution_count": 2,
      "outputs": []
    },
    {
      "cell_type": "code",
      "source": [
        "while(True):\n",
        "    rules=[]\n",
        "    common=[]\n",
        "    split=s.split(\"->\")\n",
        "    starting=split[0]\n",
        "    for i in split[1].split(\"|\"):\n",
        "        rules.append(i)\n",
        "\n",
        "#logic for taking commons out\n",
        "    for k, l in groupby(rules).items():\n",
        "        r = [l[0] for l in takewhile(prefix, zip(*l))]\n",
        "        common.append(''.join(r))\n",
        "#end of taking commons\n",
        "    for i in common:\n",
        "        newalphabet=alphabetset.pop()\n",
        "        print(starting+\"->\"+i+newalphabet)\n",
        "        index=[]\n",
        "        for k in rules:\n",
        "            if(k.startswith(i)):\n",
        "                index.append(k)\n",
        "        print(newalphabet+\"->\",end=\"\")\n",
        "        for j in index[:-1]:\n",
        "            stringtoprint=j.replace(i,\"\", 1)+\"|\"\n",
        "            if stringtoprint==\"|\":\n",
        "                print(\"\\u03B5\",\"|\",end=\"\")\n",
        "            else:\n",
        "                print(j.replace(i,\"\", 1)+\"|\",end=\"\")\n",
        "        stringtoprint=index[-1].replace(i,\"\", 1)+\"|\"\n",
        "        if stringtoprint==\"|\":\n",
        "            print(\"\\u03B5\",\"\",end=\"\")\n",
        "        else:\n",
        "            print(index[-1].replace(i,\"\", 1)+\"\",end=\"\")\n",
        "        print(\"\")\n",
        "    break"
      ],
      "metadata": {
        "colab": {
          "base_uri": "https://localhost:8080/"
        },
        "id": "IE09UIH0Ns0u",
        "outputId": "249a313a-dd11-4133-f44a-2d432c9cc3ea"
      },
      "execution_count": 3,
      "outputs": [
        {
          "output_type": "stream",
          "name": "stdout",
          "text": [
            "S->iEtSZ'\n",
            "Z'->ε |eS\n",
            "S->aY'\n",
            "Y'->ε \n"
          ]
        }
      ]
    }
  ]
}