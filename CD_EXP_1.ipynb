{
  "nbformat": 4,
  "nbformat_minor": 0,
  "metadata": {
    "colab": {
      "provenance": [],
      "authorship_tag": "ABX9TyP/OTWjARlanBbBrPElWO7l",
      "include_colab_link": true
    },
    "kernelspec": {
      "name": "python3",
      "display_name": "Python 3"
    },
    "language_info": {
      "name": "python"
    }
  },
  "cells": [
    {
      "cell_type": "markdown",
      "metadata": {
        "id": "view-in-github",
        "colab_type": "text"
      },
      "source": [
        "<a href=\"https://colab.research.google.com/github/venkatasai12345/CD-labprograms/blob/main/CD_EXP_1.ipynb\" target=\"_parent\"><img src=\"https://colab.research.google.com/assets/colab-badge.svg\" alt=\"Open In Colab\"/></a>"
      ]
    },
    {
      "cell_type": "code",
      "execution_count": 1,
      "metadata": {
        "id": "Kn7uHhSLCRcN"
      },
      "outputs": [],
      "source": [
        "keywords = {\"auto\",\"break\",\"case\",\"char\",\"const\",\"continue\",\"default\",\"do\",\n",
        "\"double\",\"else\",\"enum\",\"extern\",\"float\",\"for\",\"goto\",\n",
        "\"if\",\"int\",\"long\",\"register\",\"return\",\"short\",\"signed\",\n",
        "\"sizeof\",\"static\",\"struct\",\"switch\",\"typedef\",\"union\",\n",
        "\"unsigned\",\"void\",\"volatile\",\"while\",\"printf\",\"scanf\",\"%d\",\"include\",\"stdio.h\",\"main\"}\n",
        "\n",
        "operators = {\"+\",\"-\",\"*\",\"/\",\"<\",\">\",\"=\",\"<=\",\">=\",\"==\",\"!=\",\"++\",\"--\",\"%\"}\n",
        "\n",
        "delimiters = {'(',')','{','}','[',']','\"',\"'\",';','#',',',''}"
      ]
    },
    {
      "cell_type": "code",
      "source": [
        "def detect_keywords(text):\n",
        "\tarr = []\n",
        "\tfor word in text:\n",
        "\t\tif word in keywords:\n",
        "\t\t\tarr.append(word)\n",
        "\treturn list(set(arr))"
      ],
      "metadata": {
        "id": "HU0XI714CuHq"
      },
      "execution_count": 2,
      "outputs": []
    },
    {
      "cell_type": "code",
      "source": [
        "def detect_operators(text):\n",
        "\tarr = []\n",
        "\tfor word in text:\n",
        "\t\tif word in operators:\n",
        "\t\t\tarr.append(word)\n",
        "\treturn list(set(arr))"
      ],
      "metadata": {
        "id": "d_OubKmfCyh-"
      },
      "execution_count": 3,
      "outputs": []
    },
    {
      "cell_type": "code",
      "source": [
        "def detect_delimiters(text):\n",
        "\tarr = []\n",
        "\tfor word in text:\n",
        "\t\tif word in delimiters:\n",
        "\t\t\tarr.append(word)\n",
        "\treturn list(set(arr))"
      ],
      "metadata": {
        "id": "jL5eM5umC1DH"
      },
      "execution_count": 4,
      "outputs": []
    },
    {
      "cell_type": "code",
      "source": [
        "def detect_num(text):\n",
        "\tarr = []\n",
        "\tfor word in text:\n",
        "\t\ttry:\n",
        "\t\t\ta = int(word)\n",
        "\t\t\tarr.append(word)\n",
        "\t\texcept:\n",
        "\t\t\tpass\n",
        "\treturn list(set(arr))"
      ],
      "metadata": {
        "id": "zYUS2ZaiC5JT"
      },
      "execution_count": 5,
      "outputs": []
    },
    {
      "cell_type": "code",
      "source": [
        "def detect_identifiers(text):\n",
        "\tk = detect_keywords(text)\n",
        "\to = detect_operators(text)\n",
        "\td = detect_delimiters(text)\n",
        "\tn = detect_num(text)\n",
        "\tnot_ident = k + o + d + n\n",
        "\tarr = []\n",
        "\tfor word in text:\n",
        "\t\tif word not in not_ident:\n",
        "\t\t\tarr.append(word)\n",
        "\treturn arr"
      ],
      "metadata": {
        "id": "dapuZ4cUC7ny"
      },
      "execution_count": 6,
      "outputs": []
    },
    {
      "cell_type": "code",
      "source": [
        "with open('text.py') as t:\n",
        "\ttext = t.read().split()\n",
        "print(text)\n",
        "print(\"Keywords: \",detect_keywords(text))\n",
        "print(\"Operators: \",detect_operators(text))\n",
        "print(\"Delimiters: \",detect_delimiters(text))\n",
        "print(\"Identifiers: \",detect_identifiers(text))\n",
        "print(\"Numbers: \",detect_num(text))"
      ],
      "metadata": {
        "colab": {
          "base_uri": "https://localhost:8080/"
        },
        "id": "CydGtldFDBnk",
        "outputId": "9d4a5868-1168-40e3-df8b-f428988eb090"
      },
      "execution_count": 8,
      "outputs": [
        {
          "output_type": "stream",
          "name": "stdout",
          "text": [
            "['def', 'main():', 'n=5', 'mylist=[]', 'for', 'i', 'in', 'range(n):', 'a=int(input())', 'mylist.append(a)', 'mylist1=sorted(set(mylist))', 'mylist2=list(mylist1)', 'text=mylist2[-2]', 'print(text)', 'if', '__name__', '==', '\"__main__\":', 'main()']\n",
            "Keywords:  ['if', 'for']\n",
            "Operators:  ['==']\n",
            "Delimiters:  []\n",
            "Identifiers:  ['def', 'main():', 'n=5', 'mylist=[]', 'i', 'in', 'range(n):', 'a=int(input())', 'mylist.append(a)', 'mylist1=sorted(set(mylist))', 'mylist2=list(mylist1)', 'text=mylist2[-2]', 'print(text)', '__name__', '\"__main__\":', 'main()']\n",
            "Numbers:  []\n"
          ]
        }
      ]
    }
  ]
}